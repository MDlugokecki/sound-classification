{
 "cells": [
  {
   "cell_type": "markdown",
   "id": "45cdd4b9",
   "metadata": {},
   "source": [
    "<h1>Sound Classification - Introduction</h1>"
   ]
  },
  {
   "cell_type": "markdown",
   "id": "a416644f",
   "metadata": {},
   "source": [
    "This set of Jupiter notebooks was written to try some capabilities of machine learning algorithms in the area of sound classification. Also there are shown some technics that can help get better results in this task.</br>\n",
    "I use UrbanSound8K dataset prepared by Justin Salamon, Christopher Jacoby and Juan Pablo Bello. They described their work in a paper:</br>https://www.justinsalamon.com/uploads/4/3/9/4/4394963/salamon_urbansound_acmmm14.pdf</br>\n",
    "For better clarity and handy use I have divided the notebook for few parts in which I describe defferent aspects of ML classification."
   ]
  },
  {
   "cell_type": "markdown",
   "id": "b68a8ea7",
   "metadata": {},
   "source": [
    "<h3>Part 1 - dataset introduction and it's origin</h3>"
   ]
  },
  {
   "cell_type": "markdown",
   "id": "9a3645db",
   "metadata": {},
   "source": [
    "Part 1 includes a description of used dataset and it's constrains. We prepare the same base features and the some base models as per description in dataset's author's paper. Results of this models will be our references for new work that will follow in next parts."
   ]
  },
  {
   "cell_type": "markdown",
   "id": "8c81debd",
   "metadata": {},
   "source": [
    "<h3> Part 2 - other models and models tunning</h3>"
   ]
  },
  {
   "cell_type": "markdown",
   "id": "fe378366",
   "metadata": {},
   "source": [
    "In this part I will add other models that are effective in ML area. We will see what can be achived by models hyperparameters tuning."
   ]
  },
  {
   "cell_type": "markdown",
   "id": "e3702910",
   "metadata": {},
   "source": [
    "<h3> Part 3 - more features</h3>"
   ]
  },
  {
   "cell_type": "markdown",
   "id": "4c24808c",
   "metadata": {},
   "source": [
    "I will extract some new features and check if this help to get better results."
   ]
  },
  {
   "cell_type": "markdown",
   "id": "e1c2d008",
   "metadata": {},
   "source": [
    "<h3> Part 4 - performance metrics, data transformations and final models tuning</h3>"
   ]
  },
  {
   "cell_type": "markdown",
   "id": "109467c8",
   "metadata": {},
   "source": [
    "I will make quick preview of performance metrics used in classification tasks and compare different models predictions errors. Then I will try some data transformations and check if it can help in improving models performance. At the end I will build combine transformers and classifiers into pipelines and tune them using GridSearchCV and RandomizedSearchCV form scikit-learn library."
   ]
  },
  {
   "cell_type": "markdown",
   "id": "4842d7e8",
   "metadata": {},
   "source": [
    "I will ensamble many models into one system and check how can it improve the classification results."
   ]
  },
  {
   "cell_type": "markdown",
   "id": "079b7570",
   "metadata": {},
   "source": [
    "<h3>Part 6 - FFN and CNN using Tensorflow</h3>"
   ]
  },
  {
   "cell_type": "markdown",
   "id": "b915f4c2",
   "metadata": {},
   "source": [
    "In this part we will build artificial neural natworks. At the begining we will try feed forward network against features from previous parts. Then we will extract new features - Mel Spectrogram and apply Convolutional Neural Network to realize our classification task."
   ]
  },
  {
   "cell_type": "code",
   "execution_count": null,
   "id": "0afe6580",
   "metadata": {},
   "outputs": [],
   "source": []
  }
 ],
 "metadata": {
  "kernelspec": {
   "display_name": "tensorflow_test",
   "language": "python",
   "name": "tensorflow_test"
  },
  "language_info": {
   "codemirror_mode": {
    "name": "ipython",
    "version": 3
   },
   "file_extension": ".py",
   "mimetype": "text/x-python",
   "name": "python",
   "nbconvert_exporter": "python",
   "pygments_lexer": "ipython3",
   "version": "3.8.13"
  }
 },
 "nbformat": 4,
 "nbformat_minor": 5
}
